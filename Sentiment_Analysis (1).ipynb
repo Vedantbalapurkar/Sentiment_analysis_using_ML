{
  "nbformat": 4,
  "nbformat_minor": 0,
  "metadata": {
    "colab": {
      "provenance": []
    },
    "kernelspec": {
      "name": "python3",
      "display_name": "Python 3"
    },
    "language_info": {
      "name": "python"
    }
  },
  "cells": [
    {
      "cell_type": "code",
      "source": [
        "!pip install nltk pandas spacy  gensim"
      ],
      "metadata": {
        "colab": {
          "base_uri": "https://localhost:8080/"
        },
        "id": "ndii-bOE_Odd",
        "outputId": "08cc363f-905d-4458-88bd-f5b262fc287c"
      },
      "execution_count": 2,
      "outputs": [
        {
          "output_type": "stream",
          "name": "stdout",
          "text": [
            "Requirement already satisfied: nltk in /usr/local/lib/python3.10/dist-packages (3.8.1)\n",
            "Requirement already satisfied: pandas in /usr/local/lib/python3.10/dist-packages (2.0.3)\n",
            "Requirement already satisfied: spacy in /usr/local/lib/python3.10/dist-packages (3.7.4)\n",
            "Requirement already satisfied: gensim in /usr/local/lib/python3.10/dist-packages (4.3.2)\n",
            "Requirement already satisfied: click in /usr/local/lib/python3.10/dist-packages (from nltk) (8.1.7)\n",
            "Requirement already satisfied: joblib in /usr/local/lib/python3.10/dist-packages (from nltk) (1.3.2)\n",
            "Requirement already satisfied: regex>=2021.8.3 in /usr/local/lib/python3.10/dist-packages (from nltk) (2023.12.25)\n",
            "Requirement already satisfied: tqdm in /usr/local/lib/python3.10/dist-packages (from nltk) (4.66.2)\n",
            "Requirement already satisfied: python-dateutil>=2.8.2 in /usr/local/lib/python3.10/dist-packages (from pandas) (2.8.2)\n",
            "Requirement already satisfied: pytz>=2020.1 in /usr/local/lib/python3.10/dist-packages (from pandas) (2023.4)\n",
            "Requirement already satisfied: tzdata>=2022.1 in /usr/local/lib/python3.10/dist-packages (from pandas) (2024.1)\n",
            "Requirement already satisfied: numpy>=1.21.0 in /usr/local/lib/python3.10/dist-packages (from pandas) (1.25.2)\n",
            "Requirement already satisfied: spacy-legacy<3.1.0,>=3.0.11 in /usr/local/lib/python3.10/dist-packages (from spacy) (3.0.12)\n",
            "Requirement already satisfied: spacy-loggers<2.0.0,>=1.0.0 in /usr/local/lib/python3.10/dist-packages (from spacy) (1.0.5)\n",
            "Requirement already satisfied: murmurhash<1.1.0,>=0.28.0 in /usr/local/lib/python3.10/dist-packages (from spacy) (1.0.10)\n",
            "Requirement already satisfied: cymem<2.1.0,>=2.0.2 in /usr/local/lib/python3.10/dist-packages (from spacy) (2.0.8)\n",
            "Requirement already satisfied: preshed<3.1.0,>=3.0.2 in /usr/local/lib/python3.10/dist-packages (from spacy) (3.0.9)\n",
            "Requirement already satisfied: thinc<8.3.0,>=8.2.2 in /usr/local/lib/python3.10/dist-packages (from spacy) (8.2.3)\n",
            "Requirement already satisfied: wasabi<1.2.0,>=0.9.1 in /usr/local/lib/python3.10/dist-packages (from spacy) (1.1.2)\n",
            "Requirement already satisfied: srsly<3.0.0,>=2.4.3 in /usr/local/lib/python3.10/dist-packages (from spacy) (2.4.8)\n",
            "Requirement already satisfied: catalogue<2.1.0,>=2.0.6 in /usr/local/lib/python3.10/dist-packages (from spacy) (2.0.10)\n",
            "Requirement already satisfied: weasel<0.4.0,>=0.1.0 in /usr/local/lib/python3.10/dist-packages (from spacy) (0.3.4)\n",
            "Requirement already satisfied: typer<0.10.0,>=0.3.0 in /usr/local/lib/python3.10/dist-packages (from spacy) (0.9.4)\n",
            "Requirement already satisfied: smart-open<7.0.0,>=5.2.1 in /usr/local/lib/python3.10/dist-packages (from spacy) (6.4.0)\n",
            "Requirement already satisfied: requests<3.0.0,>=2.13.0 in /usr/local/lib/python3.10/dist-packages (from spacy) (2.31.0)\n",
            "Requirement already satisfied: pydantic!=1.8,!=1.8.1,<3.0.0,>=1.7.4 in /usr/local/lib/python3.10/dist-packages (from spacy) (2.6.4)\n",
            "Requirement already satisfied: jinja2 in /usr/local/lib/python3.10/dist-packages (from spacy) (3.1.3)\n",
            "Requirement already satisfied: setuptools in /usr/local/lib/python3.10/dist-packages (from spacy) (67.7.2)\n",
            "Requirement already satisfied: packaging>=20.0 in /usr/local/lib/python3.10/dist-packages (from spacy) (24.0)\n",
            "Requirement already satisfied: langcodes<4.0.0,>=3.2.0 in /usr/local/lib/python3.10/dist-packages (from spacy) (3.3.0)\n",
            "Requirement already satisfied: scipy>=1.7.0 in /usr/local/lib/python3.10/dist-packages (from gensim) (1.11.4)\n",
            "Requirement already satisfied: annotated-types>=0.4.0 in /usr/local/lib/python3.10/dist-packages (from pydantic!=1.8,!=1.8.1,<3.0.0,>=1.7.4->spacy) (0.6.0)\n",
            "Requirement already satisfied: pydantic-core==2.16.3 in /usr/local/lib/python3.10/dist-packages (from pydantic!=1.8,!=1.8.1,<3.0.0,>=1.7.4->spacy) (2.16.3)\n",
            "Requirement already satisfied: typing-extensions>=4.6.1 in /usr/local/lib/python3.10/dist-packages (from pydantic!=1.8,!=1.8.1,<3.0.0,>=1.7.4->spacy) (4.10.0)\n",
            "Requirement already satisfied: six>=1.5 in /usr/local/lib/python3.10/dist-packages (from python-dateutil>=2.8.2->pandas) (1.16.0)\n",
            "Requirement already satisfied: charset-normalizer<4,>=2 in /usr/local/lib/python3.10/dist-packages (from requests<3.0.0,>=2.13.0->spacy) (3.3.2)\n",
            "Requirement already satisfied: idna<4,>=2.5 in /usr/local/lib/python3.10/dist-packages (from requests<3.0.0,>=2.13.0->spacy) (3.6)\n",
            "Requirement already satisfied: urllib3<3,>=1.21.1 in /usr/local/lib/python3.10/dist-packages (from requests<3.0.0,>=2.13.0->spacy) (2.0.7)\n",
            "Requirement already satisfied: certifi>=2017.4.17 in /usr/local/lib/python3.10/dist-packages (from requests<3.0.0,>=2.13.0->spacy) (2024.2.2)\n",
            "Requirement already satisfied: blis<0.8.0,>=0.7.8 in /usr/local/lib/python3.10/dist-packages (from thinc<8.3.0,>=8.2.2->spacy) (0.7.11)\n",
            "Requirement already satisfied: confection<1.0.0,>=0.0.1 in /usr/local/lib/python3.10/dist-packages (from thinc<8.3.0,>=8.2.2->spacy) (0.1.4)\n",
            "Requirement already satisfied: cloudpathlib<0.17.0,>=0.7.0 in /usr/local/lib/python3.10/dist-packages (from weasel<0.4.0,>=0.1.0->spacy) (0.16.0)\n",
            "Requirement already satisfied: MarkupSafe>=2.0 in /usr/local/lib/python3.10/dist-packages (from jinja2->spacy) (2.1.5)\n"
          ]
        }
      ]
    },
    {
      "cell_type": "code",
      "source": [
        "!pip install sklearn"
      ],
      "metadata": {
        "colab": {
          "base_uri": "https://localhost:8080/"
        },
        "id": "hAVr5GwE_a6G",
        "outputId": "05f9bedf-be56-4a7d-a13d-40ce0f60d79f"
      },
      "execution_count": 3,
      "outputs": [
        {
          "output_type": "stream",
          "name": "stdout",
          "text": [
            "Collecting sklearn\n",
            "  Using cached sklearn-0.0.post12.tar.gz (2.6 kB)\n",
            "  \u001b[1;31merror\u001b[0m: \u001b[1msubprocess-exited-with-error\u001b[0m\n",
            "  \n",
            "  \u001b[31m×\u001b[0m \u001b[32mpython setup.py egg_info\u001b[0m did not run successfully.\n",
            "  \u001b[31m│\u001b[0m exit code: \u001b[1;36m1\u001b[0m\n",
            "  \u001b[31m╰─>\u001b[0m See above for output.\n",
            "  \n",
            "  \u001b[1;35mnote\u001b[0m: This error originates from a subprocess, and is likely not a problem with pip.\n",
            "  Preparing metadata (setup.py) ... \u001b[?25l\u001b[?25herror\n",
            "\u001b[1;31merror\u001b[0m: \u001b[1mmetadata-generation-failed\u001b[0m\n",
            "\n",
            "\u001b[31m×\u001b[0m Encountered error while generating package metadata.\n",
            "\u001b[31m╰─>\u001b[0m See above for output.\n",
            "\n",
            "\u001b[1;35mnote\u001b[0m: This is an issue with the package mentioned above, not pip.\n",
            "\u001b[1;36mhint\u001b[0m: See above for details.\n"
          ]
        }
      ]
    },
    {
      "cell_type": "code",
      "source": [
        "import nltk\n",
        "\n",
        "# Download necessary NLTK data\n",
        "nltk.download('punkt')\n",
        "nltk.download('stopwords')\n",
        "nltk.download('vader_lexicon')"
      ],
      "metadata": {
        "colab": {
          "base_uri": "https://localhost:8080/"
        },
        "id": "ihKrZgtz_h6-",
        "outputId": "321165d0-6730-47e6-8050-5eb0f207800c"
      },
      "execution_count": 4,
      "outputs": [
        {
          "output_type": "stream",
          "name": "stderr",
          "text": [
            "[nltk_data] Downloading package punkt to /root/nltk_data...\n",
            "[nltk_data]   Unzipping tokenizers/punkt.zip.\n",
            "[nltk_data] Downloading package stopwords to /root/nltk_data...\n",
            "[nltk_data]   Unzipping corpora/stopwords.zip.\n",
            "[nltk_data] Downloading package vader_lexicon to /root/nltk_data...\n"
          ]
        },
        {
          "output_type": "execute_result",
          "data": {
            "text/plain": [
              "True"
            ]
          },
          "metadata": {},
          "execution_count": 4
        }
      ]
    },
    {
      "cell_type": "code",
      "execution_count": 11,
      "metadata": {
        "colab": {
          "base_uri": "https://localhost:8080/"
        },
        "id": "_AsBWGnV-LP2",
        "outputId": "815b1a86-ff65-4c51-8d81-a010b3836c7a"
      },
      "outputs": [
        {
          "output_type": "stream",
          "name": "stdout",
          "text": [
            "Please input the article text: Whether you dip it, drizzle it, or put it on chicken nuggets or french fries, McDonald’s sauce assortment is expanding this fall.  The fast food chain announced Tuesday that it's adding two new limited-edition sauces to its U.S. menu in two weeks.  The new sauces — McDonald’s Sweet & Spicy Jam and McDonald’s MamboSauce — will hit the menu on Oct. 9, according to a news release from the company.  Are whoppers really too small?Burger King must face whopper of a lawsuit alleging burgers are too small, says judge  What are McDonald's two new sauces?  Here's more about the new limited-edition duo: • Sweet & Spicy Jam: The chain describes it as a breakfast-inspired \"jammy red pepper dipping sauce with a tongue-numbing Szechuan peppercorn kick.\" It also includes apple cider vinegar and cayenne pepper. • MamboSauce: This one is described by McD's as \"a tomato-based, sweet, spicy and vinegary sauce, inspired by an Washington, D.C. area sauce staple.\"  The company came up with the new sauces by exploring \"the incredible tastes and flavors found in communities across the country,\" Tariq Hassan, chief marking and customer experience officer at the chain, said in a news release.  The sauces \"live at the intersection of flavor and culture-pulling from decades of rich food history and tradition in local restaurants and home kitchens, and bringing the delicious spice, sweetness and kick of heat we know today’s customers are craving,\" Hassan said.  McD's said it's teaming up with six foodie content creators to review the sauces so they can share pairing suggestion ideas with customers on their respective TikTok channels.  The creators are: @Mr.Eats305, @sharidyonne, @santanakeish, @misslegarda, @natelovlogs and @blackgirlsexploredc.  \"We’re passing the mic to some of our biggest sauce fans — food content creators — to get their authentic reactions from the very first, drizzle, dip and bite,\" Hassan said.  The creators are: @Mr.Eats305, @sharidyonne, @santanakeish, @misslegarda, @natelovlogs, and @blackgirlsexploredc.  Natalie Neysa Alund is a senior correspondent for USA TODAY. Reach her at nalund@usatoday.com and follow her on X, the platform formerly known as Twitter @nataliealund.\n",
            "Cleaned Article:\n",
            "dip drizzle chicken nugget french fry mcdonald sauce assortment expand fall fast food chain announce tuesday add new limitededition sauce menu week new sauce mcdonald sweet spicy jam mcdonald mambosauce hit menu oct accord news release company whopper small?burg king face whopper lawsuit allege burger small say judge mcdonald new sauce new limitededition duo sweet spicy jam chain describe breakfastinspire jammy red pepper dipping sauce tonguenumbing szechuan peppercorn kick include apple cider vinegar cayenne pepper mambosauce describe mcd tomatobase sweet spicy vinegary sauce inspire washington dc area sauce staple company come new sauce explore incredible taste flavor find community country tariq hassan chief marking customer experience officer chain say news release sauce live intersection flavor culturepulle decade rich food history tradition local restaurant home kitchen bring delicious spice sweetness kick heat know today customer crave hassan say mcd say team foodie content creator review sauce share pairing suggestion idea customer respective tiktok channel creator @mreats @sharidyonne @santanakeish @misslegarda @natelovlogs @blackgirlsexploredc pass mic big sauce fan food content creator authentic reaction drizzle dip bite hassan say creator @mreats @sharidyonne @santanakeish @misslegarda @natelovlogs @blackgirlsexploredc natalie neysa alund senior correspondent usa today reach nalund@usatodaycom follow x platform know twitter @nataliealund\n",
            "\n",
            "Mood Rating: Positive\n",
            "\n",
            "Aspect Analysis:\n",
            "chicken nugget french fry mcdonald sauce assortment expand: Positive\n",
            "fast food chain announce: Neutral\n",
            "new sauce mcdonald sweet spicy jam mcdonald mambosauce: Positive\n",
            "king: Neutral\n",
            "whopper lawsuit allege burger small: Negative\n",
            "judge mcdonald new sauce new limitededition duo sweet spicy jam chain describe breakfastinspire jammy red pepper dipping sauce tonguenumbing szechuan peppercorn kick: Positive\n",
            "apple cider vinegar cayenne pepper mambosauce describe mcd tomatobase sweet spicy vinegary sauce inspire washington dc area: Positive\n",
            "staple company: Neutral\n",
            "new sauce: Neutral\n",
            "incredible taste flavor: Neutral\n",
            "community country: Neutral\n",
            "tariq hassan chief mark customer experience officer chain: Neutral\n",
            "news release: Neutral\n",
            "live intersection flavor: Neutral\n",
            "customer crave hassan: Neutral\n",
            "mcd: Neutral\n",
            "@santanakeish @misslegarda @natelovlogs @blackgirlsexploredc: Neutral\n",
            "mic big sauce fan food content creator authentic reaction: Positive\n",
            "drizzle dip bite hassan: Neutral\n",
            "creator @mreat @sharidyonne @santanakeish @misslegarda @natelovlogs @blackgirlsexploredc natalie neysa: Neutral\n",
            "senior correspondent usa: Neutral\n",
            "platform: Neutral\n",
            "twitter: Neutral\n",
            "\n",
            "Themes: sauce, say, new\n"
          ]
        }
      ],
      "source": [
        "import pandas as pd\n",
        "import spacy\n",
        "from nltk.sentiment import SentimentIntensityAnalyzer\n",
        "from sklearn.feature_extraction.text import TfidfVectorizer\n",
        "import numpy as np\n",
        "import re\n",
        "\n",
        "\n",
        "# Load Spacy English model\n",
        "nlp = spacy.load(\"en_core_web_sm\")\n",
        "\n",
        "# Initialize VADER sentiment analyzer\n",
        "sid = SentimentIntensityAnalyzer()\n",
        "\n",
        "def clean_text(text):\n",
        "    \"\"\"\n",
        "    Clean the text by removing unnecessary characters and converting to lowercase.\n",
        "    \"\"\"\n",
        "    # text = re.sub(r'[^a-zA-Z\\s]', '', text)\n",
        "    # text = text.lower().strip()\n",
        "    # return text\n",
        "\n",
        "    # Convert text to lowercase\n",
        "    text = text.lower()\n",
        "    # Replace common contractions\n",
        "    text = re.sub(r\"what's\", \"what is \", text)\n",
        "    text = text.replace('(ap)', '')\n",
        "    text = re.sub(r\"\\'s\", \" is \", text)\n",
        "    text = re.sub(r\"\\'ve\", \" have \", text)\n",
        "    text = re.sub(r\"can't\", \"cannot \", text)\n",
        "    text = re.sub(r\"n't\", \" not \", text)\n",
        "    text = re.sub(r\"i'm\", \"i am \", text)\n",
        "    text = re.sub(r\"\\'re\", \" are \", text)\n",
        "    text = re.sub(r\"\\'d\", \" would \", text)\n",
        "    text = re.sub(r\"\\'ll\", \" will \", text)\n",
        "    # Remove non-alphanumeric characters except for '?', '!', and ' '\n",
        "    text = re.sub(r'[^a-zA-Z?!@ ]+', '', text)\n",
        "    # Remove non-ASCII characters\n",
        "    text = re.sub(r'[^\\x00-\\x7F]+', '', text)\n",
        "    # Remove extra spaces and newlines\n",
        "    text = re.sub('\\s+', ' ', text)\n",
        "    return text\n",
        "\n",
        "\n",
        "\n",
        "\n",
        "\n",
        "def clean_article(article):\n",
        "    \"\"\"\n",
        "    Process article texts by cleaning, removing stop words, and applying lemmatization.\n",
        "    \"\"\"\n",
        "    doc = nlp(clean_text(article))\n",
        "    lemmatized_tokens = [token.lemma_ for token in doc if not token.is_stop and not token.is_punct]\n",
        "    return ' '.join(lemmatized_tokens)\n",
        "\n",
        "def analyze_mood(article):\n",
        "    \"\"\"\n",
        "    Determine the mood of the article using VADER.\n",
        "    \"\"\"\n",
        "    score = sid.polarity_scores(article)['compound']\n",
        "    return \"Positive\" if score >= 0.05 else \"Negative\" if score <= -0.05 else \"Neutral\"\n",
        "\n",
        "\n",
        "\n",
        "\n",
        "def aspect_sentiment_analysis(article):\n",
        "    \"\"\"\n",
        "    Extracts aspects from the article and evaluates their sentiment,\n",
        "    ensuring both positive and negative sentiments are considered.\n",
        "    \"\"\"\n",
        "    doc = nlp(article)\n",
        "    aspects = {}\n",
        "    for chunk in doc.noun_chunks:\n",
        "        # Extract the root word of the chunk as the aspect\n",
        "        aspect_text = ' '.join([token.lemma_ for token in chunk])\n",
        "        # Use VADER to determine sentiment of the whole chunk\n",
        "        sentiment_score = sid.polarity_scores(chunk.text)['compound']\n",
        "        if sentiment_score >= 0.05:\n",
        "            sentiment = \"Positive\"\n",
        "        elif sentiment_score <= -0.05:\n",
        "            sentiment = \"Negative\"\n",
        "        else:\n",
        "            sentiment = \"Neutral\"\n",
        "        aspects[aspect_text] = sentiment\n",
        "    return aspects\n",
        "\n",
        "\n",
        "\n",
        "\n",
        "\n",
        "\n",
        "def find_connections(article, n_keywords=3):\n",
        "    \"\"\"\n",
        "    Identify key themes within an article using TF-IDF for keyword extraction.\n",
        "    \"\"\"\n",
        "    vectorizer = TfidfVectorizer(stop_words='english')\n",
        "    tfidf_matrix = vectorizer.fit_transform([article])\n",
        "    feature_names = np.array(vectorizer.get_feature_names_out())\n",
        "    sorted_indices = np.argsort(tfidf_matrix.toarray()).flatten()[::-1]\n",
        "    top_keywords = feature_names[sorted_indices][:n_keywords]\n",
        "    return ', '.join(top_keywords)\n",
        "\n",
        "\n",
        "def main():\n",
        "    \"\"\"\n",
        "    Perform analysis on the input article provided by the user and display the results.\n",
        "    \"\"\"\n",
        "    # Take article input from the user\n",
        "    article = input(\"Please input the article text: \")\n",
        "\n",
        "    # Perform analysis\n",
        "    clean_textt = clean_text(article)\n",
        "    cleaned_article = clean_article(clean_textt)\n",
        "    mood = analyze_mood(cleaned_article)\n",
        "    aspect_analysis = aspect_sentiment_analysis(cleaned_article)\n",
        "    themes = find_connections(cleaned_article)\n",
        "\n",
        "    # Display results\n",
        "    print(\"Cleaned Article:\")\n",
        "    print(cleaned_article)\n",
        "    print(\"\\nMood Rating:\", mood)\n",
        "    print(\"\\nAspect Analysis:\")\n",
        "    for aspect, sentiment in aspect_analysis.items():\n",
        "        print(f\"{aspect}: {sentiment}\")\n",
        "    print(\"\\nThemes:\", themes)\n",
        "\n",
        "# Call the main function\n",
        "main()\n",
        "\n",
        "\n"
      ]
    },
    {
      "cell_type": "code",
      "source": [
        "\n"
      ],
      "metadata": {
        "id": "zfl16syi_iyq"
      },
      "execution_count": 6,
      "outputs": []
    },
    {
      "cell_type": "code",
      "source": [],
      "metadata": {
        "id": "b1bmxLF7_pyJ"
      },
      "execution_count": null,
      "outputs": []
    }
  ]
}